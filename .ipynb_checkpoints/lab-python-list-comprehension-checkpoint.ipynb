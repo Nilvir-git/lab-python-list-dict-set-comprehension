{
 "cells": [
  {
   "cell_type": "markdown",
   "id": "25d7736c-ba17-4aff-b6bb-66eba20fbf4e",
   "metadata": {},
   "source": [
    "# Lab | List, Dict and Set Comprehension"
   ]
  },
  {
   "cell_type": "markdown",
   "id": "7dd3cbde-675a-4b81-92c3-f728846dbe06",
   "metadata": {},
   "source": [
    "## Exercise: Managing Customer Orders Optimized with Comprehension"
   ]
  },
  {
   "cell_type": "code",
   "execution_count": 69,
   "id": "527f6952-1361-4991-a0b4-157f22ffd950",
   "metadata": {},
   "outputs": [
    {
     "name": "stdin",
     "output_type": "stream",
     "text": [
      "Number of t-shirts available:  1\n",
      "Number of mugs available:  1\n",
      "Number of hats available:  1\n",
      "Number of books available:  1\n",
      "Number of keychains available:  1\n",
      "Enter the number of orders you'd like to do (1 to 5):  2\n",
      "Enter a product you'd like to order (t-shirt, mug, hat, book, keychain):  t-shirt\n",
      "Enter a product you'd like to order (t-shirt, mug, hat, book, keychain):  mug\n",
      "Enter the price for a mug:  3.99\n",
      "Enter the price for a t-shirt:  14.99\n"
     ]
    },
    {
     "name": "stdout",
     "output_type": "stream",
     "text": [
      "Total price of the order is 18.98.\n",
      "Updated inventory: \n",
      "hat:1\n",
      "book:1\n",
      "keychain:1\n"
     ]
    }
   ],
   "source": [
    "def initialize_inventory(products):\n",
    "    products = [\"t-shirt\", \"mug\", \"hat\", \"book\", \"keychain\"]\n",
    "    inventory = {product:int(input(f\"Number of {product}s available: \")) for product in products}\n",
    "    \n",
    "    return inventory\n",
    "\n",
    "my_inventory = initialize_inventory(products)\n",
    "#checked part\n",
    "\n",
    "def get_customer_order():\n",
    "    products = [\"t-shirt\", \"mug\", \"hat\", \"book\", \"keychain\"]\n",
    "    \n",
    "    max_orders = len(products)\n",
    "    \n",
    "    while True:\n",
    "        num_orders = int(input(f\"Enter the number of orders you'd like to do (1 to {max_orders}): \"))\n",
    "        if 1 <= num_orders <= 5:\n",
    "            break\n",
    "        print(f\"You can order between 1 and {max_orders} products.\")\n",
    "\n",
    "\n",
    "    customer_orders = {\n",
    "        input(\"Enter a product you'd like to order (t-shirt, mug, hat, book, keychain): \").strip().lower()\n",
    "        for i in range(num_orders)\n",
    "    }\n",
    "\n",
    "    valid_orders = {order for order in customer_orders if order in products}\n",
    "\n",
    "    return valid_orders\n",
    "\n",
    "customer_orders = get_customer_order()\n",
    "\n",
    "def total_price_customer_order(customer_orders):\n",
    "    products = [\"t-shirt\", \"mug\", \"hat\", \"book\", \"keychain\"]\n",
    "\n",
    "    total = sum(float(input(f\"Enter the price for a {product}: \")) for product in customer_orders)\n",
    "\n",
    "    return total\n",
    "\n",
    "total = total_price_customer_order(customer_orders)\n",
    "\n",
    "print(f\"Total price of the order is {total}.\")\n",
    "\n",
    "def update_inventory(my_inventory, customer_orders,):\n",
    "    \n",
    "    for item in customer_orders:\n",
    "        if item in my_inventory and my_inventory[item] > 0:\n",
    "            my_inventory[item] -= 1 \n",
    "    \n",
    "    updated_inventory = {\n",
    "        product:quantity\n",
    "        for product, quantity in my_inventory.items() if quantity > 0        \n",
    "    }\n",
    "\n",
    "    return updated_inventory\n",
    "\n",
    "updated_inventory = update_inventory(my_inventory, customer_orders)\n",
    "\n",
    "print(\"Updated inventory: \")\n",
    "for product in updated_inventory:\n",
    "    print(f\"{product}:{updated_inventory[product]}\")\n"
   ]
  },
  {
   "cell_type": "markdown",
   "id": "5d500160-2fb7-4777-b5e4-09d45ebaf328",
   "metadata": {},
   "source": [
    "In the previous exercise, you developed a program to manage customer orders and inventory. Now, let's take it a step further and incorporate comprehension into your code.\n",
    "\n",
    "Follow the steps below to complete the exercise:\n",
    "\n",
    "1. Review your code from the previous exercise and identify areas where you can apply comprehension to simplify and streamline your code. \n",
    "\n",
    "    - *Hint: Apply it to initialize inventory, updating the inventory and printing the updated inventory.*\n",
    "    \n",
    "    - For example, in initializing the inventory, we could have:\n",
    "    \n",
    "        ```python\n",
    "        def initialize_inventory(products):\n",
    "            inventory = {product: int(input(f\"Enter the quantity of {product}s available: \")) for product in products}\n",
    "            return inventory\n",
    "\n",
    "        ```\n",
    "<br>\n",
    "    \n",
    "    \n",
    "2. Modify the function get_customer_orders so it prompts the user to enter the number of customer orders and gathers the product names using a loop and user input. Use comprehension.\n",
    "\n",
    "3. Add a new function to calculate the total price of the customer order. For each product in customer_orders, prompt the user to enter the price of that product. Use comprehension to calculate the total price. Note: assume that the user can only have 1 unit of each product.\n",
    "\n",
    "4. Modify the update_inventory function to remove the product from the inventory if its quantity becomes zero after fulfilling the customer orders. Use comprehension to filter out the products with a quantity of zero from the inventory.\n",
    "\n",
    "5. Print the total price of the customer order.\n",
    "\n",
    "Your code should produce output similar to the following:\n",
    "\n",
    "```python\n",
    "Enter the quantity of t-shirts available:  5\n",
    "Enter the quantity of mugs available:  4\n",
    "Enter the quantity of hats available:  3\n",
    "Enter the quantity of books available:  2\n",
    "Enter the quantity of keychains available:  1\n",
    "Enter the number of customer orders:  2\n",
    "Enter the name of a product that a customer wants to order:  hat\n",
    "Enter the name of a product that a customer wants to order:  keychain\n",
    "\n",
    "Order Statistics:\n",
    "Total Products Ordered: 2\n",
    "Percentage of Unique Products Ordered: 40.0\n",
    "\n",
    "Updated Inventory:\n",
    "t-shirt: 5\n",
    "mug: 4\n",
    "hat: 2\n",
    "book: 2\n",
    "Enter the price of keychain:  5\n",
    "Enter the price of hat:  10\n",
    "Total Price: 15.0\n",
    "\n",
    "```\n"
   ]
  }
 ],
 "metadata": {
  "kernelspec": {
   "display_name": "Python 3 (ipykernel)",
   "language": "python",
   "name": "python3"
  },
  "language_info": {
   "codemirror_mode": {
    "name": "ipython",
    "version": 3
   },
   "file_extension": ".py",
   "mimetype": "text/x-python",
   "name": "python",
   "nbconvert_exporter": "python",
   "pygments_lexer": "ipython3",
   "version": "3.13.3"
  }
 },
 "nbformat": 4,
 "nbformat_minor": 5
}
